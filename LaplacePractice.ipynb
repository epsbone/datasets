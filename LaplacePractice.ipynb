{
  "nbformat": 4,
  "nbformat_minor": 0,
  "metadata": {
    "colab": {
      "name": "LaplacePractice.ipynb",
      "provenance": []
    },
    "kernelspec": {
      "name": "python3",
      "display_name": "Python 3"
    },
    "language_info": {
      "name": "python"
    }
  },
  "cells": [
    {
      "cell_type": "code",
      "execution_count": 1,
      "metadata": {
        "colab": {
          "base_uri": "https://localhost:8080/"
        },
        "id": "1k8Ad27OSEV2",
        "outputId": "15cf64a2-53eb-4537-86b2-b0883746c51a"
      },
      "outputs": [
        {
          "output_type": "execute_result",
          "data": {
            "text/plain": [
              "(48/s**5, 0, True)"
            ]
          },
          "metadata": {},
          "execution_count": 1
        }
      ],
      "source": [
        "from sympy import *\n",
        "#19\n",
        "s, t = symbols('s t')\n",
        "F = (2*t**4)\n",
        "laplace_transform(F, t, s)"
      ]
    },
    {
      "cell_type": "code",
      "source": [
        "#20\n",
        "s, t = symbols('s t')\n",
        "F = (t**5)\n",
        "laplace_transform(F, t, s)"
      ],
      "metadata": {
        "colab": {
          "base_uri": "https://localhost:8080/"
        },
        "id": "J5yGaxmESPXe",
        "outputId": "fd0d0364-9c77-46e2-a295-c0cd9ebe21b2"
      },
      "execution_count": 9,
      "outputs": [
        {
          "output_type": "execute_result",
          "data": {
            "text/plain": [
              "(120/s**6, 0, True)"
            ]
          },
          "metadata": {},
          "execution_count": 9
        }
      ]
    },
    {
      "cell_type": "code",
      "source": [
        "#21\n",
        "s, t = symbols('s t')\n",
        "F = (4*t-10)\n",
        "laplace_transform(F, t, s)"
      ],
      "metadata": {
        "colab": {
          "base_uri": "https://localhost:8080/"
        },
        "id": "-GmKFgpGSPqn",
        "outputId": "0a598e61-8b60-4a33-a755-10bf776dc33c"
      },
      "execution_count": 3,
      "outputs": [
        {
          "output_type": "execute_result",
          "data": {
            "text/plain": [
              "(2*(2 - 5*s)/s**2, 0, True)"
            ]
          },
          "metadata": {},
          "execution_count": 3
        }
      ]
    },
    {
      "cell_type": "code",
      "source": [
        "#22\n",
        "s, t = symbols('s t')\n",
        "F = (7*t+3)\n",
        "laplace_transform(F, t, s)"
      ],
      "metadata": {
        "colab": {
          "base_uri": "https://localhost:8080/"
        },
        "id": "z-fDiZ8wSP2F",
        "outputId": "f5d85a55-751e-4d3c-b09d-db83a29e8773"
      },
      "execution_count": 4,
      "outputs": [
        {
          "output_type": "execute_result",
          "data": {
            "text/plain": [
              "((3*s + 7)/s**2, 0, True)"
            ]
          },
          "metadata": {},
          "execution_count": 4
        }
      ]
    },
    {
      "cell_type": "code",
      "source": [
        "#23\n",
        "s, t = symbols('s t')\n",
        "F = (t**2+6*t-3)\n",
        "laplace_transform(F, t, s)"
      ],
      "metadata": {
        "colab": {
          "base_uri": "https://localhost:8080/"
        },
        "id": "ZwcvgIToSP_P",
        "outputId": "544deffd-9762-49e6-f94a-fabd13e1a792"
      },
      "execution_count": 5,
      "outputs": [
        {
          "output_type": "execute_result",
          "data": {
            "text/plain": [
              "((-3*s**2 + 6*s + 2)/s**3, 0, True)"
            ]
          },
          "metadata": {},
          "execution_count": 5
        }
      ]
    },
    {
      "cell_type": "code",
      "source": [
        "#24\n",
        "s, t = symbols('s t')\n",
        "F = (-4*t**2+16*t+9)\n",
        "laplace_transform(F, t, s)"
      ],
      "metadata": {
        "colab": {
          "base_uri": "https://localhost:8080/"
        },
        "id": "f0o4BR-sSW8T",
        "outputId": "fc681264-6f36-4a18-8f7f-4df8e1977cba"
      },
      "execution_count": 6,
      "outputs": [
        {
          "output_type": "execute_result",
          "data": {
            "text/plain": [
              "((9*s**2 + 16*s - 8)/s**3, 0, True)"
            ]
          },
          "metadata": {},
          "execution_count": 6
        }
      ]
    },
    {
      "cell_type": "code",
      "source": [
        "#25\n",
        "s, t = symbols('s t')\n",
        "F = ((t+1)**3)\n",
        "laplace_transform(F, t, s)"
      ],
      "metadata": {
        "colab": {
          "base_uri": "https://localhost:8080/"
        },
        "id": "67onjquoSYmW",
        "outputId": "a6ed5c42-986d-4609-c6d6-211548c8079b"
      },
      "execution_count": 7,
      "outputs": [
        {
          "output_type": "execute_result",
          "data": {
            "text/plain": [
              "((s**3 + 3*s**2 + 6*s + 6)/s**4, 0, True)"
            ]
          },
          "metadata": {},
          "execution_count": 7
        }
      ]
    },
    {
      "cell_type": "code",
      "source": [
        "#26\n",
        "s, t = symbols('s t')\n",
        "F = ((2*t-1)**3)\n",
        "laplace_transform(F, t, s)"
      ],
      "metadata": {
        "colab": {
          "base_uri": "https://localhost:8080/"
        },
        "id": "MbTlUMJDSaE0",
        "outputId": "01967417-7a38-46ba-bb73-4d8cae575d3b"
      },
      "execution_count": 8,
      "outputs": [
        {
          "output_type": "execute_result",
          "data": {
            "text/plain": [
              "((-s**3 + 6*s**2 - 24*s + 48)/s**4, 0, True)"
            ]
          },
          "metadata": {},
          "execution_count": 8
        }
      ]
    }
  ]
}